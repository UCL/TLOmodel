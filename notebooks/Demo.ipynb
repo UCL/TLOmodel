{
 "cells": [
  {
   "cell_type": "markdown",
   "metadata": {},
   "source": [
    "# Demonstration Thanzi La Onse notebook\n",
    "\n",
    "This outlines ways to use the modelling framework interactively."
   ]
  },
  {
   "cell_type": "code",
   "execution_count": 1,
   "metadata": {},
   "outputs": [],
   "source": [
    "# Import general Python modules\n",
    "import numpy as np\n",
    "import pandas as pd\n",
    "\n",
    "# Import the classes we need from the tlo framework\n",
    "from tlo import Date, DateOffset, Person, Simulation\n",
    "from tlo.test import random_birth, random_death\n",
    "from tlo.util import show_changes"
   ]
  },
  {
   "cell_type": "code",
   "execution_count": 2,
   "metadata": {},
   "outputs": [],
   "source": [
    "# Create a simulation with desired modules\n",
    "sim = Simulation(start_date=Date(1950, 1, 1))\n",
    "\n",
    "rb = random_birth.RandomBirth(name='rb')\n",
    "rb.pregnancy_probability = 0.1\n",
    "rd = random_death.RandomDeath(name='rd')\n",
    "rd.death_probability = 0.01\n",
    "sim.register(rb, rd)"
   ]
  },
  {
   "cell_type": "code",
   "execution_count": 3,
   "metadata": {},
   "outputs": [],
   "source": [
    "# Repeatability\n",
    "sim.seed_rngs(4)"
   ]
  },
  {
   "cell_type": "code",
   "execution_count": 4,
   "metadata": {},
   "outputs": [],
   "source": [
    "# Set up initial population\n",
    "sim.make_initial_population(n=5)"
   ]
  },
  {
   "cell_type": "code",
   "execution_count": 5,
   "metadata": {},
   "outputs": [],
   "source": [
    "# Store initial population state for comparison\n",
    "initial_state = sim.population.props.copy()"
   ]
  },
  {
   "cell_type": "code",
   "execution_count": 6,
   "metadata": {},
   "outputs": [],
   "source": [
    "# Run simulation\n",
    "sim.simulate(end_date=Date(1951, 1, 1))"
   ]
  },
  {
   "cell_type": "code",
   "execution_count": 7,
   "metadata": {},
   "outputs": [
    {
     "data": {
      "text/html": [
       "<style  type=\"text/css\" >\n",
       "    #T_2f41f59e_6eed_11e8_aa34_9801a7909c5frow0_col0 {\n",
       "            color:  red;\n",
       "        }    #T_2f41f59e_6eed_11e8_aa34_9801a7909c5frow0_col1 {\n",
       "            color:  black;\n",
       "        }    #T_2f41f59e_6eed_11e8_aa34_9801a7909c5frow0_col2 {\n",
       "            color:  black;\n",
       "        }    #T_2f41f59e_6eed_11e8_aa34_9801a7909c5frow0_col3 {\n",
       "            color:  black;\n",
       "        }    #T_2f41f59e_6eed_11e8_aa34_9801a7909c5frow0_col4 {\n",
       "            color:  black;\n",
       "        }    #T_2f41f59e_6eed_11e8_aa34_9801a7909c5frow1_col0 {\n",
       "            color:  red;\n",
       "        }    #T_2f41f59e_6eed_11e8_aa34_9801a7909c5frow1_col1 {\n",
       "            color:  black;\n",
       "        }    #T_2f41f59e_6eed_11e8_aa34_9801a7909c5frow1_col2 {\n",
       "            color:  black;\n",
       "        }    #T_2f41f59e_6eed_11e8_aa34_9801a7909c5frow1_col3 {\n",
       "            color:  red;\n",
       "        }    #T_2f41f59e_6eed_11e8_aa34_9801a7909c5frow1_col4 {\n",
       "            color:  red;\n",
       "        }    #T_2f41f59e_6eed_11e8_aa34_9801a7909c5frow2_col0 {\n",
       "            color:  black;\n",
       "        }    #T_2f41f59e_6eed_11e8_aa34_9801a7909c5frow2_col1 {\n",
       "            color:  black;\n",
       "        }    #T_2f41f59e_6eed_11e8_aa34_9801a7909c5frow2_col2 {\n",
       "            color:  black;\n",
       "        }    #T_2f41f59e_6eed_11e8_aa34_9801a7909c5frow2_col3 {\n",
       "            color:  red;\n",
       "        }    #T_2f41f59e_6eed_11e8_aa34_9801a7909c5frow2_col4 {\n",
       "            color:  red;\n",
       "        }    #T_2f41f59e_6eed_11e8_aa34_9801a7909c5frow3_col0 {\n",
       "            color:  black;\n",
       "        }    #T_2f41f59e_6eed_11e8_aa34_9801a7909c5frow3_col1 {\n",
       "            color:  black;\n",
       "        }    #T_2f41f59e_6eed_11e8_aa34_9801a7909c5frow3_col2 {\n",
       "            color:  black;\n",
       "        }    #T_2f41f59e_6eed_11e8_aa34_9801a7909c5frow3_col3 {\n",
       "            color:  black;\n",
       "        }    #T_2f41f59e_6eed_11e8_aa34_9801a7909c5frow3_col4 {\n",
       "            color:  black;\n",
       "        }    #T_2f41f59e_6eed_11e8_aa34_9801a7909c5frow4_col0 {\n",
       "            color:  red;\n",
       "        }    #T_2f41f59e_6eed_11e8_aa34_9801a7909c5frow4_col1 {\n",
       "            color:  black;\n",
       "        }    #T_2f41f59e_6eed_11e8_aa34_9801a7909c5frow4_col2 {\n",
       "            color:  black;\n",
       "        }    #T_2f41f59e_6eed_11e8_aa34_9801a7909c5frow4_col3 {\n",
       "            color:  black;\n",
       "        }    #T_2f41f59e_6eed_11e8_aa34_9801a7909c5frow4_col4 {\n",
       "            color:  black;\n",
       "        }    #T_2f41f59e_6eed_11e8_aa34_9801a7909c5frow5_col0 {\n",
       "            color:  red;\n",
       "            background-color:  yellow;\n",
       "        }    #T_2f41f59e_6eed_11e8_aa34_9801a7909c5frow5_col1 {\n",
       "            color:  red;\n",
       "            background-color:  yellow;\n",
       "        }    #T_2f41f59e_6eed_11e8_aa34_9801a7909c5frow5_col2 {\n",
       "            color:  red;\n",
       "            background-color:  yellow;\n",
       "        }    #T_2f41f59e_6eed_11e8_aa34_9801a7909c5frow5_col3 {\n",
       "            color:  red;\n",
       "            background-color:  yellow;\n",
       "        }    #T_2f41f59e_6eed_11e8_aa34_9801a7909c5frow5_col4 {\n",
       "            color:  black;\n",
       "            background-color:  yellow;\n",
       "        }</style>  \n",
       "<table id=\"T_2f41f59e_6eed_11e8_aa34_9801a7909c5f\" > \n",
       "<thead>    <tr> \n",
       "        <th class=\"blank level0\" ></th> \n",
       "        <th class=\"col_heading level0 col0\" >is_pregnant</th> \n",
       "        <th class=\"col_heading level0 col1\" >date_of_birth</th> \n",
       "        <th class=\"col_heading level0 col2\" >children</th> \n",
       "        <th class=\"col_heading level0 col3\" >is_alive</th> \n",
       "        <th class=\"col_heading level0 col4\" >date_of_death</th> \n",
       "    </tr></thead> \n",
       "<tbody>    <tr> \n",
       "        <th id=\"T_2f41f59e_6eed_11e8_aa34_9801a7909c5flevel0_row0\" class=\"row_heading level0 row0\" >0</th> \n",
       "        <td id=\"T_2f41f59e_6eed_11e8_aa34_9801a7909c5frow0_col0\" class=\"data row0 col0\" >True</td> \n",
       "        <td id=\"T_2f41f59e_6eed_11e8_aa34_9801a7909c5frow0_col1\" class=\"data row0 col1\" >1943-11-30 00:00:00</td> \n",
       "        <td id=\"T_2f41f59e_6eed_11e8_aa34_9801a7909c5frow0_col2\" class=\"data row0 col2\" >[]</td> \n",
       "        <td id=\"T_2f41f59e_6eed_11e8_aa34_9801a7909c5frow0_col3\" class=\"data row0 col3\" >True</td> \n",
       "        <td id=\"T_2f41f59e_6eed_11e8_aa34_9801a7909c5frow0_col4\" class=\"data row0 col4\" >NaT</td> \n",
       "    </tr>    <tr> \n",
       "        <th id=\"T_2f41f59e_6eed_11e8_aa34_9801a7909c5flevel0_row1\" class=\"row_heading level0 row1\" >1</th> \n",
       "        <td id=\"T_2f41f59e_6eed_11e8_aa34_9801a7909c5frow1_col0\" class=\"data row1 col0\" >True</td> \n",
       "        <td id=\"T_2f41f59e_6eed_11e8_aa34_9801a7909c5frow1_col1\" class=\"data row1 col1\" >1944-08-31 00:00:00</td> \n",
       "        <td id=\"T_2f41f59e_6eed_11e8_aa34_9801a7909c5frow1_col2\" class=\"data row1 col2\" >[]</td> \n",
       "        <td id=\"T_2f41f59e_6eed_11e8_aa34_9801a7909c5frow1_col3\" class=\"data row1 col3\" >False</td> \n",
       "        <td id=\"T_2f41f59e_6eed_11e8_aa34_9801a7909c5frow1_col4\" class=\"data row1 col4\" >1950-05-01 00:00:00</td> \n",
       "    </tr>    <tr> \n",
       "        <th id=\"T_2f41f59e_6eed_11e8_aa34_9801a7909c5flevel0_row2\" class=\"row_heading level0 row2\" >2</th> \n",
       "        <td id=\"T_2f41f59e_6eed_11e8_aa34_9801a7909c5frow2_col0\" class=\"data row2 col0\" >False</td> \n",
       "        <td id=\"T_2f41f59e_6eed_11e8_aa34_9801a7909c5frow2_col1\" class=\"data row2 col1\" >1945-10-31 00:00:00</td> \n",
       "        <td id=\"T_2f41f59e_6eed_11e8_aa34_9801a7909c5frow2_col2\" class=\"data row2 col2\" >[]</td> \n",
       "        <td id=\"T_2f41f59e_6eed_11e8_aa34_9801a7909c5frow2_col3\" class=\"data row2 col3\" >False</td> \n",
       "        <td id=\"T_2f41f59e_6eed_11e8_aa34_9801a7909c5frow2_col4\" class=\"data row2 col4\" >1950-03-01 00:00:00</td> \n",
       "    </tr>    <tr> \n",
       "        <th id=\"T_2f41f59e_6eed_11e8_aa34_9801a7909c5flevel0_row3\" class=\"row_heading level0 row3\" >3</th> \n",
       "        <td id=\"T_2f41f59e_6eed_11e8_aa34_9801a7909c5frow3_col0\" class=\"data row3 col0\" >False</td> \n",
       "        <td id=\"T_2f41f59e_6eed_11e8_aa34_9801a7909c5frow3_col1\" class=\"data row3 col1\" >1940-02-29 00:00:00</td> \n",
       "        <td id=\"T_2f41f59e_6eed_11e8_aa34_9801a7909c5frow3_col2\" class=\"data row3 col2\" >[]</td> \n",
       "        <td id=\"T_2f41f59e_6eed_11e8_aa34_9801a7909c5frow3_col3\" class=\"data row3 col3\" >True</td> \n",
       "        <td id=\"T_2f41f59e_6eed_11e8_aa34_9801a7909c5frow3_col4\" class=\"data row3 col4\" >NaT</td> \n",
       "    </tr>    <tr> \n",
       "        <th id=\"T_2f41f59e_6eed_11e8_aa34_9801a7909c5flevel0_row4\" class=\"row_heading level0 row4\" >4</th> \n",
       "        <td id=\"T_2f41f59e_6eed_11e8_aa34_9801a7909c5frow4_col0\" class=\"data row4 col0\" >True</td> \n",
       "        <td id=\"T_2f41f59e_6eed_11e8_aa34_9801a7909c5frow4_col1\" class=\"data row4 col1\" >1948-09-30 00:00:00</td> \n",
       "        <td id=\"T_2f41f59e_6eed_11e8_aa34_9801a7909c5frow4_col2\" class=\"data row4 col2\" >[<Person 5>]</td> \n",
       "        <td id=\"T_2f41f59e_6eed_11e8_aa34_9801a7909c5frow4_col3\" class=\"data row4 col3\" >True</td> \n",
       "        <td id=\"T_2f41f59e_6eed_11e8_aa34_9801a7909c5frow4_col4\" class=\"data row4 col4\" >NaT</td> \n",
       "    </tr>    <tr> \n",
       "        <th id=\"T_2f41f59e_6eed_11e8_aa34_9801a7909c5flevel0_row5\" class=\"row_heading level0 row5\" >5</th> \n",
       "        <td id=\"T_2f41f59e_6eed_11e8_aa34_9801a7909c5frow5_col0\" class=\"data row5 col0\" >True</td> \n",
       "        <td id=\"T_2f41f59e_6eed_11e8_aa34_9801a7909c5frow5_col1\" class=\"data row5 col1\" >1950-11-01 00:00:00</td> \n",
       "        <td id=\"T_2f41f59e_6eed_11e8_aa34_9801a7909c5frow5_col2\" class=\"data row5 col2\" >[]</td> \n",
       "        <td id=\"T_2f41f59e_6eed_11e8_aa34_9801a7909c5frow5_col3\" class=\"data row5 col3\" >True</td> \n",
       "        <td id=\"T_2f41f59e_6eed_11e8_aa34_9801a7909c5frow5_col4\" class=\"data row5 col4\" >NaT</td> \n",
       "    </tr></tbody> \n",
       "</table> "
      ],
      "text/plain": [
       "<pandas.io.formats.style.Styler at 0x107f38a90>"
      ]
     },
     "execution_count": 7,
     "metadata": {},
     "output_type": "execute_result"
    }
   ],
   "source": [
    "# Compare final & initial states\n",
    "final_state = sim.population.props\n",
    "show_changes(sim, initial_state, final_state)"
   ]
  },
  {
   "cell_type": "code",
   "execution_count": 8,
   "metadata": {},
   "outputs": [
    {
     "name": "stdout",
     "output_type": "stream",
     "text": [
      "Children of person 0: []\n",
      "Children of person 1: []\n",
      "Children of person 2: []\n",
      "Children of person 3: []\n",
      "Children of person 4: [<Person 5>]\n",
      "Children of person 5: []\n"
     ]
    }
   ],
   "source": [
    "# The simple display above doesn't handle 'object' type data well, e.g. the children list\n",
    "for i, l in enumerate(sim.population.children):\n",
    "    print('Children of person {}: {}'.format(i, l))"
   ]
  }
 ],
 "metadata": {
  "kernelspec": {
   "display_name": "Python 3",
   "language": "python",
   "name": "python3"
  },
  "language_info": {
   "codemirror_mode": {
    "name": "ipython",
    "version": 3
   },
   "file_extension": ".py",
   "mimetype": "text/x-python",
   "name": "python",
   "nbconvert_exporter": "python",
   "pygments_lexer": "ipython3",
   "version": "3.6.2"
  }
 },
 "nbformat": 4,
 "nbformat_minor": 2
}
