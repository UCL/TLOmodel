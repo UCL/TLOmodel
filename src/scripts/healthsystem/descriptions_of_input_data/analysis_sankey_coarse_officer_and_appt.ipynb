{
 "cells": [
  {
   "cell_type": "markdown",
   "id": "4103c24d",
   "metadata": {},
   "source": [
    "### Install floweaver in Anaconda Prompt / PyCharm Terminal:\n",
    "\n",
    "pip install floweaver\n",
    "\n",
    "pip install ipysankeywidget\n",
    "\n",
    "jupyter nbextension enable --py --sys-prefix ipysankeywidget\n",
    "\n",
    "jupyter notebook (to open jupyter notebook)\n",
    "\n",
    "### To display and save the output figures:\n",
    "Run the cells -> Open Event Log -> Open in Browser -> Find the script and run all cells"
   ]
  },
  {
   "cell_type": "code",
   "execution_count": 17,
   "id": "913300ab",
   "metadata": {
    "pycharm": {
     "name": "#%%\n"
    }
   },
   "outputs": [],
   "source": [
    "import tlo\n",
    "\n",
    "import pandas as pd\n",
    "import numpy as np\n",
    "from ipysankeywidget import SankeyWidget\n",
    "from matplotlib import pyplot as plt\n",
    "from floweaver import *\n",
    "from pathlib import Path\n",
    "from ipywidgets import HBox, VBox\n",
    "\n",
    "# get the tlo path\n",
    "tlopath = Path(tlo.__file__).parent.parent.parent\n",
    "\n",
    "# Get the path of current folder that stores the data\n",
    "workingpath = tlopath / Path('resources/healthsystem/human_resources/definitions')\n",
    "\n",
    "# Define the path of output Sankeys\n",
    "outputpath = tlopath / Path('outputs/healthsystem/human_resources/sankey_diagrams')\n",
    "\n",
    "# Read the data of appointment time table\n",
    "appointment = pd.read_csv(workingpath / 'ResourceFile_Appt_Time_Table.csv')\n",
    "\n",
    "# Rename\n",
    "appointment.loc[appointment['Officer_Category'] == 'Nursing_and_Midwifery',\n",
    "                'Officer_Category'] = 'Nursing and Midwifery'\n",
    "\n",
    "# Read the data of appointment types table\n",
    "appt_types = pd.read_csv(workingpath / 'ResourceFile_Appt_Types_Table.csv')\n",
    "# Rename\n",
    "appt_types.loc[appt_types['Appt_Cat'] == 'GENERAL_INPATIENT_AND_OUTPATIENT_CARE',\n",
    "              'Appt_Cat'] = 'IPOP'\n",
    "appt_types.loc[appt_types['Appt_Cat'] == 'Nutrition',\n",
    "              'Appt_Cat'] = 'NUTRITION'\n",
    "appt_types.loc[appt_types['Appt_Cat'] == 'Misc',\n",
    "              'Appt_Cat'] = 'MISC'\n",
    "appt_types.loc[appt_types['Appt_Cat'] == 'Mental_Health',\n",
    "              'Appt_Cat'] = 'MENTAL'\n",
    "\n",
    "# Merge appt category to the time table\n",
    "appointment = appointment.merge(appt_types[['Appt_Type_Code', 'Appt_Cat']],\n",
    "                               on='Appt_Type_Code', how='left')\n",
    "\n",
    "# Add prefix 'Facility_Level'\n",
    "appointment['Facility_Level'] = 'Facility_Level_' + appointment['Facility_Level'].astype(str)\n",
    "\n",
    "# Draw a diagram using appointment time table itself.\n",
    "# Currentlt, we do not know how many appointments of a type at a level happened or \\\n",
    "# how many minutes of an officer category at a level go to that appointment.\n",
    "# We consider the mapping between officer categories and appointment types, \\\n",
    "# which can be derived from the appointment time table."
   ]
  },
  {
   "cell_type": "code",
   "execution_count": 18,
   "id": "b3e06de5",
   "metadata": {
    "pycharm": {
     "name": "#%%\n"
    }
   },
   "outputs": [
    {
     "data": {
      "application/vnd.jupyter.widget-view+json": {
       "model_id": "8b6451ea2a6345079a8905078efed1ae",
       "version_major": 2,
       "version_minor": 0
      },
      "text/plain": [
       "SankeyWidget(groups=[{'id': 'Officer', 'type': 'process', 'title': '', 'nodes': ['Officer^Clinical', 'Officer^…"
      ]
     },
     "metadata": {},
     "output_type": "display_data"
    }
   ],
   "source": [
    "# The flow maps 9 officer categories and 11 appt cateogories at all levels\n",
    "flow_coarse_officer_appt = pd.DataFrame(\n",
    "    appointment.groupby(['Officer_Category', 'Appt_Cat', 'Facility_Level'],\n",
    "                        dropna=False, sort=False).sum()\n",
    ").reset_index()\n",
    "# Drop column of minutes and add column 'value'\n",
    "flow_coarse_officer_appt.drop(columns = ['Time_Taken_Mins'], inplace=True)\n",
    "flow_coarse_officer_appt['value'] = 1\n",
    "\n",
    "# Add 'source' and 'target' columns\n",
    "flow_coarse_officer_appt['source'] = 'Officer_Category'\n",
    "flow_coarse_officer_appt['target'] = 'Appt_Cat'\n",
    "\n",
    "size = dict(width=800, height=800, margins=dict(left=180, right=180))\n",
    "\n",
    "partition_officer_cat = Partition.Simple('Officer_Category',\n",
    "                                             np.unique(flow_coarse_officer_appt['Officer_Category']))\n",
    "\n",
    "partition_appt_cat = Partition.Simple('Appt_Cat',\n",
    "                                          np.unique(flow_coarse_officer_appt['Appt_Cat']))\n",
    "\n",
    "partition_facility_level = Partition.Simple('Facility_Level',\n",
    "                                            np.unique(flow_coarse_officer_appt['Facility_Level']))\n",
    "\n",
    "nodes = {\n",
    "    'Officer': ProcessGroup(['Officer_Category'], partition_officer_cat),\n",
    "    'Appt': ProcessGroup(['Appt_Cat'], partition_appt_cat),\n",
    "}\n",
    "\n",
    "# Add nodes Waypoint\n",
    "nodes['waypoint'] = Waypoint(partition_facility_level)\n",
    "\n",
    "bundles = [\n",
    "    Bundle('Officer', 'Appt', waypoints=['waypoint']),\n",
    "]\n",
    "\n",
    "ordering = [\n",
    "    ['Officer'],  # left\n",
    "    ['waypoint'],    # middle\n",
    "    ['Appt'],     # right\n",
    "    ]\n",
    "\n",
    "# Set the color for each officer category\n",
    "palette = {'Clinical': 'skyblue', 'Nursing and Midwifery': 'lightpink',\n",
    "           'Pharmacy': 'khaki', 'Laboratory': 'cadetblue',\n",
    "           'Radiography': 'yellowgreen', 'Dental': 'salmon',\n",
    "           'Mental': 'mediumorchid', 'DCSA': 'royalblue'\n",
    "          }\n",
    "\n",
    "\n",
    "# Sankey diagram definition (SDD)\n",
    "sdd = SankeyDefinition(nodes, bundles, ordering, flow_partition=partition_officer_cat)\n",
    "\n",
    "sankey_coarse_officer_and_coarse_appt = weave(sdd, flow_coarse_officer_appt,\n",
    "                                                palette=palette, measures='value').to_widget(**size)\n",
    "\n",
    "sankey_coarse_officer_and_coarse_appt.auto_save_png(outputpath /'Sankey_coarse_officer_and_coarse_appt.png')"
   ]
  },
  {
   "cell_type": "code",
   "execution_count": 19,
   "id": "fe0021cb",
   "metadata": {
    "scrolled": true
   },
   "outputs": [
    {
     "data": {
      "application/vnd.jupyter.widget-view+json": {
       "model_id": "1e700fc889c34d19ac176aff4077908d",
       "version_major": 2,
       "version_minor": 0
      },
      "text/plain": [
       "VBox(children=(HBox(children=(SankeyWidget(groups=[{'id': 'Officer', 'type': 'process', 'title': '', 'nodes': …"
      ]
     },
     "metadata": {},
     "output_type": "display_data"
    }
   ],
   "source": [
    "# The flow maps 9 officer categories and 51 appt types at an individaul level\n",
    "flow_coarse_officer = pd.DataFrame(\n",
    "    appointment.groupby(['Officer_Category', 'Appt_Type_Code', 'Facility_Level'],\n",
    "                        dropna=False, sort=False).sum()\n",
    ").reset_index()\n",
    "# As we do not care about the flow proportions, we add a 'value' columns with constant value 1.\n",
    "flow_coarse_officer['value'] = 1\n",
    "# Add 'source' and 'target' columns\n",
    "flow_coarse_officer['source'] = 'Officer_Category'\n",
    "flow_coarse_officer['target'] = 'Appt_Type_Code'\n",
    "\n",
    "def sankey_level_coarse_officer(level, h):\n",
    "    flow_coarse_officer_level = flow_coarse_officer.loc[flow_coarse_officer['Facility_Level'] == level, :].copy()\n",
    "    flow_coarse_officer_level.drop(columns = 'Facility_Level', inplace=True)\n",
    "    flow_coarse_officer_level.reset_index(drop=True, inplace=True)\n",
    "\n",
    "    size = dict(width=800, height=h, margins=dict(left=180, right=180))\n",
    "\n",
    "    partition_officer_cat = Partition.Simple('Officer_Category', np.unique(flow_coarse_officer_level['Officer_Category']))\n",
    "    partition_appt_type = Partition.Simple('Appt_Type_Code', np.unique(flow_coarse_officer_level['Appt_Type_Code']))\n",
    "\n",
    "    nodes = {\n",
    "        'Officer': ProcessGroup(['Officer_Category'], partition_officer_cat),\n",
    "        'Appt': ProcessGroup(['Appt_Type_Code'], partition_appt_type),\n",
    "    }\n",
    "\n",
    "    bundles = [\n",
    "        Bundle('Officer', 'Appt'),\n",
    "    ]\n",
    "\n",
    "    ordering = [\n",
    "        ['Officer'],\n",
    "        ['Appt'],\n",
    "    ]\n",
    "\n",
    "    # Set the color for each officer category\n",
    "    palette = {'Clinical': 'skyblue', 'Nursing and Midwifery': 'lightpink',\n",
    "               'Pharmacy': 'khaki', 'Laboratory': 'cadetblue',\n",
    "               'Radiography': 'yellowgreen', 'Dental': 'salmon',\n",
    "               'Mental': 'mediumorchid', 'DCSA': 'royalblue'\n",
    "              }\n",
    "\n",
    "    sdd = SankeyDefinition(nodes, bundles, ordering, flow_partition=partition_officer_cat) # color by officer cat\n",
    "\n",
    "    return weave(sdd, flow_coarse_officer_level, palette=palette, measures='value').to_widget(**size)\n",
    "\n",
    "sankey_coarse_officer_level_0 = sankey_level_coarse_officer('Facility_Level_0', 100)\n",
    "sankey_coarse_officer_level_0.auto_save_png(outputpath /'Sankey_coarse_officer_and_fine_appt_level_0.png')\n",
    "\n",
    "sankey_coarse_officer_level_1a = sankey_level_coarse_officer('Facility_Level_1a', 1200)\n",
    "sankey_coarse_officer_level_1a.auto_save_png(outputpath /'Sankey_coarse_officer_and_fine_appt_level_1a.png')\n",
    "\n",
    "sankey_coarse_officer_level_1b = sankey_level_coarse_officer('Facility_Level_1b', 1200)\n",
    "sankey_coarse_officer_level_1b.auto_save_png(outputpath /'Sankey_coarse_officer_and_fine_appt_level_1b.png')\n",
    "\n",
    "sankey_coarse_officer_level_2 = sankey_level_coarse_officer('Facility_Level_2', 1200)\n",
    "sankey_coarse_officer_level_2.auto_save_png(outputpath /'Sankey_coarse_officer_and_fine_appt_level_2.png')\n",
    "\n",
    "sankey_coarse_officer_level_3 = sankey_level_coarse_officer('Facility_Level_3', 1200)\n",
    "sankey_coarse_officer_level_3.auto_save_png(outputpath /'Sankey_coarse_officer_and_fine_appt_level_3.png')\n",
    "\n",
    "sankey_coarse_officer_level_4 = sankey_level_coarse_officer('Facility_Level_4', 200)\n",
    "sankey_coarse_officer_level_4.auto_save_png(outputpath /'Sankey_coarse_officer_and_fine_appt_level_4.png')\n",
    "\n",
    "top_box = HBox([sankey_coarse_officer_level_0, sankey_coarse_officer_level_4])\n",
    "mid_box = HBox([sankey_coarse_officer_level_1a, sankey_coarse_officer_level_1b])\n",
    "bottom_box = HBox([sankey_coarse_officer_level_2, sankey_coarse_officer_level_3])\n",
    "VBox([top_box, mid_box, bottom_box])"
   ]
  }
 ],
 "metadata": {
  "kernelspec": {
   "display_name": "PyCharm (TLOmodel)",
   "language": "python",
   "name": "pycharm-551d1069"
  },
  "language_info": {
   "codemirror_mode": {
    "name": "ipython",
    "version": 3
   },
   "file_extension": ".py",
   "mimetype": "text/x-python",
   "name": "python",
   "nbconvert_exporter": "python",
   "pygments_lexer": "ipython3",
   "version": "3.8.10"
  }
 },
 "nbformat": 4,
 "nbformat_minor": 5
}