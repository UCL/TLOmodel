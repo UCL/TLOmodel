{
 "cells": [
  {
   "cell_type": "code",
   "execution_count": null,
   "id": "initial_id",
   "metadata": {
    "collapsed": true
   },
   "outputs": [],
   "source": [
    ""
   ]
  },
  {
   "metadata": {
    "ExecuteTime": {
     "end_time": "2025-08-27T12:19:27.030768Z",
     "start_time": "2025-08-27T12:19:26.329764Z"
    }
   },
   "cell_type": "code",
   "source": [
    "\n",
    "import pandas as pd\n",
    "import glob\n",
    "import os\n",
    "\n",
    "# Path to your folder\n",
    "path = \"/Users/rem76/PycharmProjects/TLOmodel/resources/climate_change_impacts/\"\n",
    "\n",
    "# Find all relevant CSVs\n",
    "files = glob.glob(os.path.join(path, \"ResourceFile_Precipitation_Disruptions_*.csv\"))\n",
    "\n",
    "all_values = []\n",
    "\n",
    "for f in files:\n",
    "    df = pd.read_csv(f)\n",
    "    if \"mean_all_service\" in df.columns:\n",
    "        all_values.extend(df[\"mean_all_service\"].dropna().tolist()) \n",
    "\n",
    "all_values_series = pd.Series(all_values)\n",
    "\n",
    "# Compute summary across all files\n",
    "summary_all_files = {\n",
    "    \"min\": all_values_series.min(),\n",
    "    \"max\": all_values_series.max(),\n",
    "    \"mean\": all_values_series.mean()\n",
    "}\n",
    "\n",
    "print(summary_all_files)\n"
   ],
   "id": "960d8eaefef5a9e0",
   "outputs": [
    {
     "name": "stdout",
     "output_type": "stream",
     "text": [
      "{'min': 0.0, 'max': 1.5805192824391343, 'mean': 0.011370392341963076}\n"
     ]
    }
   ],
   "execution_count": 4
  },
  {
   "metadata": {
    "ExecuteTime": {
     "end_time": "2025-08-27T12:17:15.874476Z",
     "start_time": "2025-08-27T12:17:15.862676Z"
    }
   },
   "cell_type": "code",
   "source": "files",
   "id": "d0ccc529ab7fe64",
   "outputs": [
    {
     "data": {
      "text/plain": [
       "[]"
      ]
     },
     "execution_count": 2,
     "metadata": {},
     "output_type": "execute_result"
    }
   ],
   "execution_count": 2
  },
  {
   "metadata": {},
   "cell_type": "code",
   "outputs": [],
   "execution_count": null,
   "source": "",
   "id": "641da87c761fac89"
  }
 ],
 "metadata": {
  "kernelspec": {
   "display_name": "Python 3",
   "language": "python",
   "name": "python3"
  },
  "language_info": {
   "codemirror_mode": {
    "name": "ipython",
    "version": 2
   },
   "file_extension": ".py",
   "mimetype": "text/x-python",
   "name": "python",
   "nbconvert_exporter": "python",
   "pygments_lexer": "ipython2",
   "version": "2.7.6"
  }
 },
 "nbformat": 4,
 "nbformat_minor": 5
}
