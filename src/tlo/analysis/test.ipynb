{
 "cells": [
  {
   "metadata": {
    "ExecuteTime": {
     "end_time": "2024-07-03T20:21:45.210233Z",
     "start_time": "2024-07-03T20:21:45.202485Z"
    }
   },
   "cell_type": "code",
   "source": [
    "import datetime\n",
    "import os\n",
    "from pathlib import Path\n",
    "import pandas as pd\n",
    "\n",
    "from tlo.analysis.life_expectancy import get_life_expectancy_estimates\n",
    "from tlo import Date, Simulation, logging, util\n",
    "from tlo.analysis.probability_premature_death import get_probability_of_dying_before_70\n"
   ],
   "id": "ab427d8ba90c41b8",
   "outputs": [],
   "execution_count": 23
  },
  {
   "metadata": {},
   "cell_type": "markdown",
   "source": "",
   "id": "44213a022e60cd42"
  },
  {
   "metadata": {
    "ExecuteTime": {
     "end_time": "2024-07-03T20:21:49.994662Z",
     "start_time": "2024-07-03T20:21:49.991151Z"
    }
   },
   "cell_type": "code",
   "source": "results_folder = Path(\"/Users/rem76/PycharmProjects/TLOmodel/outputs/tbh03@ic.ac.uk/long_run_all_diseases-2024-05-31T160939Z/\")",
   "id": "4069b23948aa9a3a",
   "outputs": [],
   "execution_count": 24
  },
  {
   "metadata": {
    "ExecuteTime": {
     "end_time": "2024-07-03T20:10:33.132668Z",
     "start_time": "2024-07-03T20:10:32.983949Z"
    }
   },
   "cell_type": "code",
   "source": "get_life_expectancy_estimates(results_folder,target_period=(datetime.date(2010, 1, 1), datetime.date(2020, 12, 31)), summary = False)",
   "id": "4d2b9b244262a1fc",
   "outputs": [
    {
     "data": {
      "text/plain": [
       "draw          0                                                         \\\n",
       "run           0          1          2          3          4          5   \n",
       "sex                                                                      \n",
       "M     58.854789  59.182485  58.462134  59.019825  58.879304  59.704822   \n",
       "F     63.282462  62.338287  63.302513  63.005595  63.551367  63.089974   \n",
       "\n",
       "draw                                   \n",
       "run           6          7          8  \n",
       "sex                                    \n",
       "M     58.635976  58.749800  58.888191  \n",
       "F     63.343861  63.088528  62.399674  "
      ],
      "text/html": [
       "<div>\n",
       "<style scoped>\n",
       "    .dataframe tbody tr th:only-of-type {\n",
       "        vertical-align: middle;\n",
       "    }\n",
       "\n",
       "    .dataframe tbody tr th {\n",
       "        vertical-align: top;\n",
       "    }\n",
       "\n",
       "    .dataframe thead tr th {\n",
       "        text-align: left;\n",
       "    }\n",
       "\n",
       "    .dataframe thead tr:last-of-type th {\n",
       "        text-align: right;\n",
       "    }\n",
       "</style>\n",
       "<table border=\"1\" class=\"dataframe\">\n",
       "  <thead>\n",
       "    <tr>\n",
       "      <th>draw</th>\n",
       "      <th colspan=\"9\" halign=\"left\">0</th>\n",
       "    </tr>\n",
       "    <tr>\n",
       "      <th>run</th>\n",
       "      <th>0</th>\n",
       "      <th>1</th>\n",
       "      <th>2</th>\n",
       "      <th>3</th>\n",
       "      <th>4</th>\n",
       "      <th>5</th>\n",
       "      <th>6</th>\n",
       "      <th>7</th>\n",
       "      <th>8</th>\n",
       "    </tr>\n",
       "    <tr>\n",
       "      <th>sex</th>\n",
       "      <th></th>\n",
       "      <th></th>\n",
       "      <th></th>\n",
       "      <th></th>\n",
       "      <th></th>\n",
       "      <th></th>\n",
       "      <th></th>\n",
       "      <th></th>\n",
       "      <th></th>\n",
       "    </tr>\n",
       "  </thead>\n",
       "  <tbody>\n",
       "    <tr>\n",
       "      <th>M</th>\n",
       "      <td>58.854789</td>\n",
       "      <td>59.182485</td>\n",
       "      <td>58.462134</td>\n",
       "      <td>59.019825</td>\n",
       "      <td>58.879304</td>\n",
       "      <td>59.704822</td>\n",
       "      <td>58.635976</td>\n",
       "      <td>58.749800</td>\n",
       "      <td>58.888191</td>\n",
       "    </tr>\n",
       "    <tr>\n",
       "      <th>F</th>\n",
       "      <td>63.282462</td>\n",
       "      <td>62.338287</td>\n",
       "      <td>63.302513</td>\n",
       "      <td>63.005595</td>\n",
       "      <td>63.551367</td>\n",
       "      <td>63.089974</td>\n",
       "      <td>63.343861</td>\n",
       "      <td>63.088528</td>\n",
       "      <td>62.399674</td>\n",
       "    </tr>\n",
       "  </tbody>\n",
       "</table>\n",
       "</div>"
      ]
     },
     "execution_count": 22,
     "metadata": {},
     "output_type": "execute_result"
    }
   ],
   "execution_count": 22
  },
  {
   "metadata": {},
   "cell_type": "code",
   "outputs": [],
   "execution_count": null,
   "source": "get_life_expectancy_estimates(results_folder,target_period=(datetime.date(2010, 1, 1), datetime.date(2020, 12, 31)), summary = False)",
   "id": "3ecbf22ee2f68654"
  },
  {
   "metadata": {
    "ExecuteTime": {
     "end_time": "2024-07-03T20:22:02.600341Z",
     "start_time": "2024-07-03T20:22:02.455411Z"
    }
   },
   "cell_type": "code",
   "source": "get_probability_of_dying_before_70(results_folder,target_period=(datetime.date(2010, 1, 1), datetime.date(2020, 12, 31)), summary = False, max_age = 80)",
   "id": "fad1b0d2f489b9bd",
   "outputs": [
    {
     "data": {
      "text/plain": [
       "draw         0                                                              \\\n",
       "run          0         1         2         3         4         5         6   \n",
       "sex                                                                          \n",
       "M     0.597017  0.579700  0.597767  0.591821  0.602394  0.617965  0.589396   \n",
       "F     0.473033  0.485873  0.465402  0.478161  0.461935  0.460389  0.471456   \n",
       "\n",
       "draw                      \n",
       "run          7         8  \n",
       "sex                       \n",
       "M     0.576299  0.590346  \n",
       "F     0.495766  0.495891  "
      ],
      "text/html": [
       "<div>\n",
       "<style scoped>\n",
       "    .dataframe tbody tr th:only-of-type {\n",
       "        vertical-align: middle;\n",
       "    }\n",
       "\n",
       "    .dataframe tbody tr th {\n",
       "        vertical-align: top;\n",
       "    }\n",
       "\n",
       "    .dataframe thead tr th {\n",
       "        text-align: left;\n",
       "    }\n",
       "\n",
       "    .dataframe thead tr:last-of-type th {\n",
       "        text-align: right;\n",
       "    }\n",
       "</style>\n",
       "<table border=\"1\" class=\"dataframe\">\n",
       "  <thead>\n",
       "    <tr>\n",
       "      <th>draw</th>\n",
       "      <th colspan=\"9\" halign=\"left\">0</th>\n",
       "    </tr>\n",
       "    <tr>\n",
       "      <th>run</th>\n",
       "      <th>0</th>\n",
       "      <th>1</th>\n",
       "      <th>2</th>\n",
       "      <th>3</th>\n",
       "      <th>4</th>\n",
       "      <th>5</th>\n",
       "      <th>6</th>\n",
       "      <th>7</th>\n",
       "      <th>8</th>\n",
       "    </tr>\n",
       "    <tr>\n",
       "      <th>sex</th>\n",
       "      <th></th>\n",
       "      <th></th>\n",
       "      <th></th>\n",
       "      <th></th>\n",
       "      <th></th>\n",
       "      <th></th>\n",
       "      <th></th>\n",
       "      <th></th>\n",
       "      <th></th>\n",
       "    </tr>\n",
       "  </thead>\n",
       "  <tbody>\n",
       "    <tr>\n",
       "      <th>M</th>\n",
       "      <td>0.597017</td>\n",
       "      <td>0.579700</td>\n",
       "      <td>0.597767</td>\n",
       "      <td>0.591821</td>\n",
       "      <td>0.602394</td>\n",
       "      <td>0.617965</td>\n",
       "      <td>0.589396</td>\n",
       "      <td>0.576299</td>\n",
       "      <td>0.590346</td>\n",
       "    </tr>\n",
       "    <tr>\n",
       "      <th>F</th>\n",
       "      <td>0.473033</td>\n",
       "      <td>0.485873</td>\n",
       "      <td>0.465402</td>\n",
       "      <td>0.478161</td>\n",
       "      <td>0.461935</td>\n",
       "      <td>0.460389</td>\n",
       "      <td>0.471456</td>\n",
       "      <td>0.495766</td>\n",
       "      <td>0.495891</td>\n",
       "    </tr>\n",
       "  </tbody>\n",
       "</table>\n",
       "</div>"
      ]
     },
     "execution_count": 26,
     "metadata": {},
     "output_type": "execute_result"
    }
   ],
   "execution_count": 26
  },
  {
   "metadata": {},
   "cell_type": "code",
   "outputs": [],
   "execution_count": null,
   "source": "",
   "id": "2902b0dd7f25da5a"
  }
 ],
 "metadata": {
  "kernelspec": {
   "display_name": "Python 3",
   "language": "python",
   "name": "python3"
  },
  "language_info": {
   "codemirror_mode": {
    "name": "ipython",
    "version": 2
   },
   "file_extension": ".py",
   "mimetype": "text/x-python",
   "name": "python",
   "nbconvert_exporter": "python",
   "pygments_lexer": "ipython2",
   "version": "2.7.6"
  }
 },
 "nbformat": 4,
 "nbformat_minor": 5
}
